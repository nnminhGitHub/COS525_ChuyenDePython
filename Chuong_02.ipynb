{
 "cells": [
  {
   "cell_type": "code",
   "execution_count": null,
   "id": "a217e082",
   "metadata": {},
   "outputs": [],
   "source": [
    "# Cú pháp Python cơ bản\n",
    "print('nnminh')"
   ]
  }
 ],
 "metadata": {
  "language_info": {
   "name": "python"
  }
 },
 "nbformat": 4,
 "nbformat_minor": 5
}
